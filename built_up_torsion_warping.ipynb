{
 "cells": [
  {
   "cell_type": "markdown",
   "id": "e4e936fe",
   "metadata": {},
   "source": [
    "# Torsion and Warping Properties of a Built-up Section\n",
    "In this notebook we compare the torsion and warping properties of individual sections of a built-up section, with the properties of the combined section."
   ]
  },
  {
   "cell_type": "markdown",
   "id": "5aabb21d",
   "metadata": {},
   "source": [
    "## Import Modules\n",
    "Start by importing the necessary modules."
   ]
  },
  {
   "cell_type": "code",
   "execution_count": null,
   "id": "2c877320",
   "metadata": {},
   "outputs": [],
   "source": [
    "from sectionproperties.pre.library.steel_sections import i_section, angle_section\n",
    "from sectionproperties.analysis.section import Section\n",
    "%config InlineBackend.figure_formats = ['svg']"
   ]
  },
  {
   "cell_type": "markdown",
   "id": "36879569",
   "metadata": {},
   "source": [
    "## Create Geometry\n",
    "Here we create a 200UB25 I-section and place two 100x75x6 unequal angles either side of the centre of the web."
   ]
  },
  {
   "cell_type": "code",
   "execution_count": null,
   "id": "a1f0c04e",
   "metadata": {},
   "outputs": [],
   "source": [
    "# create 200UB25 I-section, align centroid at origin (0, 0)\n",
    "i_geom = i_section(d=203, b=133, t_f=7.8, t_w=5.8, r=8.9, n_r=16).align_center()\n",
    "\n",
    "# create 100x75x6UA\n",
    "r_angle_geom = (\n",
    "    angle_section(d=100, b=75, t=6, r_r=8, r_t=5, n_r=16)\n",
    "    .mirror_section(axis=\"x\")  # flange on top\n",
    "    .shift_section(x_offset=2.9, y_offset=-50)  # centred on RHS of web\n",
    ")\n",
    "\n",
    "# mirror RHS angle to LHS of web\n",
    "l_angle_geom = r_angle_geom.mirror_section(axis=\"y\", mirror_point=(0, 0))"
   ]
  },
  {
   "cell_type": "markdown",
   "id": "b321f168",
   "metadata": {},
   "source": [
    "## I-Section Section Properties \n",
    "Calculate the torsion and warping constant for the I-section alone."
   ]
  },
  {
   "cell_type": "code",
   "execution_count": null,
   "id": "0a7d7f02",
   "metadata": {},
   "outputs": [],
   "source": [
    "i_geom.create_mesh(3.0)\n",
    "i_sec = Section(i_geom)\n",
    "i_sec.plot_mesh()\n",
    "i_sec.calculate_geometric_properties()\n",
    "i_sec.calculate_warping_properties()\n",
    "i_j = i_sec.get_j()\n",
    "i_iw = i_sec.get_gamma()"
   ]
  },
  {
   "cell_type": "code",
   "execution_count": null,
   "id": "f77a964b",
   "metadata": {},
   "outputs": [],
   "source": [
    "print(f\"J={i_j:.3e}; Iw={i_iw:.3e}\")"
   ]
  },
  {
   "cell_type": "markdown",
   "id": "aadf6f59",
   "metadata": {},
   "source": [
    "## Angle Section Properties\n",
    "Calculate the torsion and warping constant for one of the angles alone."
   ]
  },
  {
   "cell_type": "code",
   "execution_count": null,
   "id": "8d3baf92",
   "metadata": {},
   "outputs": [],
   "source": [
    "r_angle_geom.create_mesh(3.0)\n",
    "angle_sec = Section(r_angle_geom)\n",
    "angle_sec.plot_mesh()\n",
    "angle_sec.calculate_geometric_properties()\n",
    "angle_sec.calculate_warping_properties()\n",
    "angle_j = angle_sec.get_j()\n",
    "angle_iw = angle_sec.get_gamma()"
   ]
  },
  {
   "cell_type": "code",
   "execution_count": null,
   "id": "58a580e5",
   "metadata": {},
   "outputs": [],
   "source": [
    "print(f\"J={angle_j:.3e}; Iw={angle_iw:.3e}\")"
   ]
  },
  {
   "cell_type": "markdown",
   "id": "d258906b",
   "metadata": {},
   "source": [
    "## Built-up Section Properties\n",
    "Calculate the torsion and warping constant of the built-up section."
   ]
  },
  {
   "cell_type": "code",
   "execution_count": null,
   "id": "d9ff6925",
   "metadata": {},
   "outputs": [],
   "source": [
    "bup_geom = i_geom + r_angle_geom + l_angle_geom\n",
    "bup_geom.create_mesh(3.0)\n",
    "bup_sec = Section(bup_geom)\n",
    "bup_sec.plot_mesh()\n",
    "bup_sec.calculate_geometric_properties()\n",
    "bup_sec.calculate_warping_properties()\n",
    "bup_j = bup_sec.get_j()\n",
    "bup_iw = bup_sec.get_gamma()"
   ]
  },
  {
   "cell_type": "code",
   "execution_count": null,
   "id": "9537ac1b",
   "metadata": {},
   "outputs": [],
   "source": [
    "print(f\"J={bup_j:.3e}; Iw={bup_iw:.3e}\")"
   ]
  },
  {
   "cell_type": "markdown",
   "id": "58c0df0e",
   "metadata": {},
   "source": [
    "## Interpreting the Results\n",
    "Let's compare the sum of the individual properties to the built-up properties."
   ]
  },
  {
   "cell_type": "code",
   "execution_count": null,
   "id": "69e63a49",
   "metadata": {},
   "outputs": [],
   "source": [
    "(i_j + 2 * angle_j) / bup_j"
   ]
  },
  {
   "cell_type": "code",
   "execution_count": null,
   "id": "4a329013",
   "metadata": {},
   "outputs": [],
   "source": [
    "(i_iw + 2 * angle_iw) / bup_iw"
   ]
  },
  {
   "cell_type": "markdown",
   "id": "eb43cc3e",
   "metadata": {},
   "source": [
    "## Stress Due to Torsion\n",
    "We can also visualise the stress due to a unit twisting moment."
   ]
  },
  {
   "cell_type": "code",
   "execution_count": null,
   "id": "1f9a05de",
   "metadata": {},
   "outputs": [],
   "source": [
    "stress_i = i_sec.calculate_stress(Mzz=1e6)\n",
    "stress_angle = angle_sec.calculate_stress(Mzz=1e6)\n",
    "stress_bup = bup_sec.calculate_stress(Mzz=1e6)"
   ]
  },
  {
   "cell_type": "code",
   "execution_count": null,
   "id": "3d7d3739",
   "metadata": {},
   "outputs": [],
   "source": [
    "stress_i.plot_stress_mzz_zxy()\n",
    "stress_angle.plot_stress_mzz_zxy()\n",
    "stress_bup.plot_stress_mzz_zxy()"
   ]
  }
 ],
 "metadata": {
  "kernelspec": {
   "display_name": "Python 3 (ipykernel)",
   "language": "python",
   "name": "python3"
  },
  "language_info": {
   "codemirror_mode": {
    "name": "ipython",
    "version": 3
   },
   "file_extension": ".py",
   "mimetype": "text/x-python",
   "name": "python",
   "nbconvert_exporter": "python",
   "pygments_lexer": "ipython3",
   "version": "3.8.11"
  }
 },
 "nbformat": 4,
 "nbformat_minor": 5
}
